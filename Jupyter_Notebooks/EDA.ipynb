{
 "cells": [
  {
   "cell_type": "markdown",
   "metadata": {},
   "source": [
    "## EDA"
   ]
  },
  {
   "cell_type": "code",
   "execution_count": 1,
   "metadata": {},
   "outputs": [],
   "source": [
    "import pandas as pd\n",
    "import numpy as np"
   ]
  },
  {
   "cell_type": "code",
   "execution_count": 2,
   "metadata": {},
   "outputs": [],
   "source": [
    "df = pd.read_csv('/Users/rashidbaset/Code/github/predict-house-value/Data/processed_kc_housing.csv')"
   ]
  },
  {
   "cell_type": "markdown",
   "metadata": {},
   "source": [
    "## Exploring the raw data"
   ]
  },
  {
   "cell_type": "code",
   "execution_count": 4,
   "metadata": {},
   "outputs": [
    {
     "output_type": "execute_result",
     "data": {
      "text/plain": "               id        date   price  bedrooms  bathrooms  sqft_living  \\\n0      7129300520  2014-10-13  221900         3       1.00         1180   \n1      6414100192  2014-12-09  538000         3       2.25         2570   \n2      5631500400  2015-02-25  180000         2       1.00          770   \n3      2487200875  2014-12-09  604000         4       3.00         1960   \n4      1954400510  2015-02-18  510000         3       2.00         1680   \n...           ...         ...     ...       ...        ...          ...   \n21138   263000018  2014-05-21  360000         3       2.50         1530   \n21139  6600060120  2015-02-23  400000         4       2.50         2310   \n21140  1523300141  2014-06-23  402101         2       0.75         1020   \n21141   291310100  2015-01-16  400000         3       2.50         1600   \n21142  1523300157  2014-10-15  325000         2       0.75         1020   \n\n       sqft_lot  floors  waterfront  view  ...  grade  sqft_above  \\\n0          5650     1.0         NaN   0.0  ...      7        1180   \n1          7242     2.0         0.0   0.0  ...      7        2170   \n2         10000     1.0         0.0   0.0  ...      6         770   \n3          5000     1.0         0.0   0.0  ...      7        1050   \n4          8080     1.0         0.0   0.0  ...      8        1680   \n...         ...     ...         ...   ...  ...    ...         ...   \n21138      1131     3.0         0.0   0.0  ...      8        1530   \n21139      5813     2.0         0.0   0.0  ...      8        2310   \n21140      1350     2.0         0.0   0.0  ...      7        1020   \n21141      2388     2.0         NaN   0.0  ...      8        1600   \n21142      1076     2.0         0.0   0.0  ...      7        1020   \n\n       sqft_basement  yr_built  yr_renovated  zipcode      lat     long  \\\n0                0.0      1955           0.0    98178  47.5112 -122.257   \n1              400.0      1951        1991.0    98125  47.7210 -122.319   \n2                0.0      1933           NaN    98028  47.7379 -122.233   \n3              910.0      1965           0.0    98136  47.5208 -122.393   \n4                0.0      1987           0.0    98074  47.6168 -122.045   \n...              ...       ...           ...      ...      ...      ...   \n21138            0.0      2009           0.0    98103  47.6993 -122.346   \n21139            0.0      2014           0.0    98146  47.5107 -122.362   \n21140            0.0      2009           0.0    98144  47.5944 -122.299   \n21141            0.0      2004           0.0    98027  47.5345 -122.069   \n21142            0.0      2008           0.0    98144  47.5941 -122.299   \n\n       sqft_living15  sqft_lot15  \n0               1340        5650  \n1               1690        7639  \n2               2720        8062  \n3               1360        5000  \n4               1800        7503  \n...              ...         ...  \n21138           1530        1509  \n21139           1830        7200  \n21140           1020        2007  \n21141           1410        1287  \n21142           1020        1357  \n\n[21143 rows x 21 columns]",
      "text/html": "<div>\n<style scoped>\n    .dataframe tbody tr th:only-of-type {\n        vertical-align: middle;\n    }\n\n    .dataframe tbody tr th {\n        vertical-align: top;\n    }\n\n    .dataframe thead th {\n        text-align: right;\n    }\n</style>\n<table border=\"1\" class=\"dataframe\">\n  <thead>\n    <tr style=\"text-align: right;\">\n      <th></th>\n      <th>id</th>\n      <th>date</th>\n      <th>price</th>\n      <th>bedrooms</th>\n      <th>bathrooms</th>\n      <th>sqft_living</th>\n      <th>sqft_lot</th>\n      <th>floors</th>\n      <th>waterfront</th>\n      <th>view</th>\n      <th>...</th>\n      <th>grade</th>\n      <th>sqft_above</th>\n      <th>sqft_basement</th>\n      <th>yr_built</th>\n      <th>yr_renovated</th>\n      <th>zipcode</th>\n      <th>lat</th>\n      <th>long</th>\n      <th>sqft_living15</th>\n      <th>sqft_lot15</th>\n    </tr>\n  </thead>\n  <tbody>\n    <tr>\n      <th>0</th>\n      <td>7129300520</td>\n      <td>2014-10-13</td>\n      <td>221900</td>\n      <td>3</td>\n      <td>1.00</td>\n      <td>1180</td>\n      <td>5650</td>\n      <td>1.0</td>\n      <td>NaN</td>\n      <td>0.0</td>\n      <td>...</td>\n      <td>7</td>\n      <td>1180</td>\n      <td>0.0</td>\n      <td>1955</td>\n      <td>0.0</td>\n      <td>98178</td>\n      <td>47.5112</td>\n      <td>-122.257</td>\n      <td>1340</td>\n      <td>5650</td>\n    </tr>\n    <tr>\n      <th>1</th>\n      <td>6414100192</td>\n      <td>2014-12-09</td>\n      <td>538000</td>\n      <td>3</td>\n      <td>2.25</td>\n      <td>2570</td>\n      <td>7242</td>\n      <td>2.0</td>\n      <td>0.0</td>\n      <td>0.0</td>\n      <td>...</td>\n      <td>7</td>\n      <td>2170</td>\n      <td>400.0</td>\n      <td>1951</td>\n      <td>1991.0</td>\n      <td>98125</td>\n      <td>47.7210</td>\n      <td>-122.319</td>\n      <td>1690</td>\n      <td>7639</td>\n    </tr>\n    <tr>\n      <th>2</th>\n      <td>5631500400</td>\n      <td>2015-02-25</td>\n      <td>180000</td>\n      <td>2</td>\n      <td>1.00</td>\n      <td>770</td>\n      <td>10000</td>\n      <td>1.0</td>\n      <td>0.0</td>\n      <td>0.0</td>\n      <td>...</td>\n      <td>6</td>\n      <td>770</td>\n      <td>0.0</td>\n      <td>1933</td>\n      <td>NaN</td>\n      <td>98028</td>\n      <td>47.7379</td>\n      <td>-122.233</td>\n      <td>2720</td>\n      <td>8062</td>\n    </tr>\n    <tr>\n      <th>3</th>\n      <td>2487200875</td>\n      <td>2014-12-09</td>\n      <td>604000</td>\n      <td>4</td>\n      <td>3.00</td>\n      <td>1960</td>\n      <td>5000</td>\n      <td>1.0</td>\n      <td>0.0</td>\n      <td>0.0</td>\n      <td>...</td>\n      <td>7</td>\n      <td>1050</td>\n      <td>910.0</td>\n      <td>1965</td>\n      <td>0.0</td>\n      <td>98136</td>\n      <td>47.5208</td>\n      <td>-122.393</td>\n      <td>1360</td>\n      <td>5000</td>\n    </tr>\n    <tr>\n      <th>4</th>\n      <td>1954400510</td>\n      <td>2015-02-18</td>\n      <td>510000</td>\n      <td>3</td>\n      <td>2.00</td>\n      <td>1680</td>\n      <td>8080</td>\n      <td>1.0</td>\n      <td>0.0</td>\n      <td>0.0</td>\n      <td>...</td>\n      <td>8</td>\n      <td>1680</td>\n      <td>0.0</td>\n      <td>1987</td>\n      <td>0.0</td>\n      <td>98074</td>\n      <td>47.6168</td>\n      <td>-122.045</td>\n      <td>1800</td>\n      <td>7503</td>\n    </tr>\n    <tr>\n      <th>...</th>\n      <td>...</td>\n      <td>...</td>\n      <td>...</td>\n      <td>...</td>\n      <td>...</td>\n      <td>...</td>\n      <td>...</td>\n      <td>...</td>\n      <td>...</td>\n      <td>...</td>\n      <td>...</td>\n      <td>...</td>\n      <td>...</td>\n      <td>...</td>\n      <td>...</td>\n      <td>...</td>\n      <td>...</td>\n      <td>...</td>\n      <td>...</td>\n      <td>...</td>\n      <td>...</td>\n    </tr>\n    <tr>\n      <th>21138</th>\n      <td>263000018</td>\n      <td>2014-05-21</td>\n      <td>360000</td>\n      <td>3</td>\n      <td>2.50</td>\n      <td>1530</td>\n      <td>1131</td>\n      <td>3.0</td>\n      <td>0.0</td>\n      <td>0.0</td>\n      <td>...</td>\n      <td>8</td>\n      <td>1530</td>\n      <td>0.0</td>\n      <td>2009</td>\n      <td>0.0</td>\n      <td>98103</td>\n      <td>47.6993</td>\n      <td>-122.346</td>\n      <td>1530</td>\n      <td>1509</td>\n    </tr>\n    <tr>\n      <th>21139</th>\n      <td>6600060120</td>\n      <td>2015-02-23</td>\n      <td>400000</td>\n      <td>4</td>\n      <td>2.50</td>\n      <td>2310</td>\n      <td>5813</td>\n      <td>2.0</td>\n      <td>0.0</td>\n      <td>0.0</td>\n      <td>...</td>\n      <td>8</td>\n      <td>2310</td>\n      <td>0.0</td>\n      <td>2014</td>\n      <td>0.0</td>\n      <td>98146</td>\n      <td>47.5107</td>\n      <td>-122.362</td>\n      <td>1830</td>\n      <td>7200</td>\n    </tr>\n    <tr>\n      <th>21140</th>\n      <td>1523300141</td>\n      <td>2014-06-23</td>\n      <td>402101</td>\n      <td>2</td>\n      <td>0.75</td>\n      <td>1020</td>\n      <td>1350</td>\n      <td>2.0</td>\n      <td>0.0</td>\n      <td>0.0</td>\n      <td>...</td>\n      <td>7</td>\n      <td>1020</td>\n      <td>0.0</td>\n      <td>2009</td>\n      <td>0.0</td>\n      <td>98144</td>\n      <td>47.5944</td>\n      <td>-122.299</td>\n      <td>1020</td>\n      <td>2007</td>\n    </tr>\n    <tr>\n      <th>21141</th>\n      <td>291310100</td>\n      <td>2015-01-16</td>\n      <td>400000</td>\n      <td>3</td>\n      <td>2.50</td>\n      <td>1600</td>\n      <td>2388</td>\n      <td>2.0</td>\n      <td>NaN</td>\n      <td>0.0</td>\n      <td>...</td>\n      <td>8</td>\n      <td>1600</td>\n      <td>0.0</td>\n      <td>2004</td>\n      <td>0.0</td>\n      <td>98027</td>\n      <td>47.5345</td>\n      <td>-122.069</td>\n      <td>1410</td>\n      <td>1287</td>\n    </tr>\n    <tr>\n      <th>21142</th>\n      <td>1523300157</td>\n      <td>2014-10-15</td>\n      <td>325000</td>\n      <td>2</td>\n      <td>0.75</td>\n      <td>1020</td>\n      <td>1076</td>\n      <td>2.0</td>\n      <td>0.0</td>\n      <td>0.0</td>\n      <td>...</td>\n      <td>7</td>\n      <td>1020</td>\n      <td>0.0</td>\n      <td>2008</td>\n      <td>0.0</td>\n      <td>98144</td>\n      <td>47.5941</td>\n      <td>-122.299</td>\n      <td>1020</td>\n      <td>1357</td>\n    </tr>\n  </tbody>\n</table>\n<p>21143 rows × 21 columns</p>\n</div>"
     },
     "metadata": {},
     "execution_count": 4
    }
   ],
   "source": [
    "df"
   ]
  },
  {
   "cell_type": "code",
   "execution_count": 5,
   "metadata": {
    "tags": []
   },
   "outputs": [
    {
     "output_type": "stream",
     "name": "stdout",
     "text": "---- id ---\n795000620     3\n9238500040    2\n8062900070    2\n8161020060    2\n5430300171    2\n             ..\n3021059276    1\n880000205     1\n8165500110    1\n9492500170    1\n1777500160    1\nName: id, Length: 20970, dtype: int64\n---- date ---\n2014-06-23    139\n2014-06-25    130\n2014-07-08    126\n2014-06-26    125\n2015-04-27    122\n             ... \n2014-08-03      1\n2014-11-30      1\n2015-05-24      1\n2014-07-27      1\n2015-02-15      1\nName: date, Length: 372, dtype: int64\n---- price ---\n350000    168\n450000    167\n550000    155\n500000    149\n425000    146\n         ... \n789900      1\n330950      1\n699800      1\n568450      1\n303100      1\nName: price, Length: 3581, dtype: int64\n---- bedrooms ---\n3     9639\n4     6740\n2     2691\n5     1560\n6      262\n1      191\n7       36\n8       13\n9        6\n10       3\n11       1\n33       1\nName: bedrooms, dtype: int64\n---- bathrooms ---\n2.50    5255\n1.00    3757\n1.75    2991\n2.25    2014\n2.00    1886\n1.50    1422\n2.75    1160\n3.00     736\n3.50     719\n3.25     574\n3.75     152\n4.00     135\n4.50      96\n4.25      79\n0.75      71\n4.75      23\n5.00      19\n5.25      13\n1.25       9\n5.50       9\n6.00       6\n5.75       4\n0.50       3\n8.00       2\n6.25       2\n6.75       2\n6.50       2\n7.50       1\n7.75       1\nName: bathrooms, dtype: int64\n---- sqft_living ---\n1300    135\n1400    134\n1440    130\n1010    127\n1660    127\n       ... \n4970      1\n2905      1\n2793      1\n4810      1\n6085      1\nName: sqft_living, Length: 1025, dtype: int64\n---- sqft_lot ---\n5000     348\n6000     286\n4000     244\n7200     218\n7500     119\n        ... \n11212      1\n9165       1\n41300      1\n17377      1\n14321      1\nName: sqft_lot, Length: 9643, dtype: int64\n---- floors ---\n1.0    10456\n2.0     8066\n1.5     1865\n3.0      593\n2.5      156\n3.5        7\nName: floors, dtype: int64\n---- waterfront ---\n0.0    18662\n1.0      142\nName: waterfront, dtype: int64\n---- view ---\n0.0    19018\n2.0      930\n3.0      496\n1.0      327\n4.0      311\nName: view, dtype: int64\n---- condition ---\n3    13726\n4     5557\n5     1666\n2      166\n1       28\nName: condition, dtype: int64\n---- grade ---\n7     8788\n8     5933\n9     2557\n6     1997\n10    1112\n11     391\n5      235\n12      89\n4       27\n13      13\n3        1\nName: grade, dtype: int64\n---- sqft_above ---\n1300    208\n1010    207\n1200    199\n1220    191\n1140    182\n       ... \n8860      1\n2665      1\n440       1\n2473      1\n1975      1\nName: sqft_above, Length: 935, dtype: int64\n---- sqft_basement ---\n0.0       12826\n600.0       217\n500.0       209\n700.0       208\n800.0       201\n          ...  \n915.0         1\n295.0         1\n1281.0        1\n2130.0        1\n906.0         1\nName: sqft_basement, Length: 303, dtype: int64\n---- yr_built ---\n2014    542\n2006    443\n2005    435\n2004    422\n2003    416\n       ... \n1933     30\n1901     28\n1902     27\n1935     23\n1934     21\nName: yr_built, Length: 116, dtype: int64\n---- yr_renovated ---\n0.0       16666\n2014.0       69\n2003.0       31\n2013.0       31\n2007.0       30\n          ...  \n1953.0        1\n1944.0        1\n1934.0        1\n1971.0        1\n1959.0        1\nName: yr_renovated, Length: 69, dtype: int64\n---- zipcode ---\n98103    588\n98038    574\n98115    568\n98052    562\n98042    542\n        ... \n98102    100\n98010     98\n98024     79\n98148     55\n98039     49\nName: zipcode, Length: 70, dtype: int64\n---- lat ---\n47.6624    17\n47.5491    17\n47.5322    17\n47.6846    16\n47.6711    16\n           ..\n47.3312     1\n47.6026     1\n47.4426     1\n47.4537     1\n47.2715     1\nName: lat, Length: 5018, dtype: int64\n---- long ---\n-122.290    113\n-122.300    109\n-122.362    104\n-122.363     98\n-122.291     98\n           ... \n-121.803      1\n-121.711      1\n-122.454      1\n-121.835      1\n-121.849      1\nName: long, Length: 750, dtype: int64\n---- sqft_living15 ---\n1440    194\n1540    192\n1560    188\n1500    173\n1460    165\n       ... \n4890      1\n2873      1\n952       1\n3193      1\n2049      1\nName: sqft_living15, Length: 773, dtype: int64\n---- sqft_lot15 ---\n5000     416\n4000     349\n6000     283\n7200     209\n4800     140\n        ... \n6890       1\n35576      1\n9594       1\n11004      1\n6147       1\nName: sqft_lot15, Length: 8572, dtype: int64\n"
    }
   ],
   "source": [
    "for c in df.columns:\n",
    "    print (\"---- %s ---\" % c)\n",
    "    print (df[c].value_counts())"
   ]
  },
  {
   "cell_type": "markdown",
   "metadata": {},
   "source": [
    "#### Filtering data by various criteria"
   ]
  },
  {
   "cell_type": "code",
   "execution_count": 6,
   "metadata": {},
   "outputs": [
    {
     "output_type": "execute_result",
     "data": {
      "text/plain": "Index(['id', 'date', 'price', 'bedrooms', 'bathrooms', 'sqft_living',\n       'sqft_lot', 'floors', 'waterfront', 'view', 'condition', 'grade',\n       'sqft_above', 'sqft_basement', 'yr_built', 'yr_renovated', 'zipcode',\n       'lat', 'long', 'sqft_living15', 'sqft_lot15'],\n      dtype='object')"
     },
     "metadata": {},
     "execution_count": 6
    }
   ],
   "source": [
    "df.columns"
   ]
  },
  {
   "cell_type": "code",
   "execution_count": null,
   "metadata": {},
   "outputs": [],
   "source": []
  },
  {
   "cell_type": "code",
   "execution_count": null,
   "metadata": {},
   "outputs": [],
   "source": []
  }
 ],
 "metadata": {
  "language_info": {
   "codemirror_mode": {
    "name": "ipython",
    "version": 3
   },
   "file_extension": ".py",
   "mimetype": "text/x-python",
   "name": "python",
   "nbconvert_exporter": "python",
   "pygments_lexer": "ipython3",
   "version": "3.7.6-final"
  },
  "orig_nbformat": 2,
  "kernelspec": {
   "name": "python3",
   "display_name": "Python 3"
  }
 },
 "nbformat": 4,
 "nbformat_minor": 2
}