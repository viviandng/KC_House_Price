{
 "cells": [
  {
   "cell_type": "code",
   "execution_count": 11,
   "metadata": {},
   "outputs": [],
   "source": [
    "import pandas as pd\n",
    "import numpy as np\n",
    "import seaborn as sns"
   ]
  },
  {
   "cell_type": "code",
   "execution_count": 12,
   "metadata": {},
   "outputs": [],
   "source": [
    "#pd.set_option(\"display.float_format\", \"{:.2f}\".format)"
   ]
  },
  {
   "cell_type": "code",
   "execution_count": 13,
   "metadata": {},
   "outputs": [],
   "source": [
    "df = pd.read_csv('../Data/kc_house_data.csv')"
   ]
  },
  {
   "cell_type": "markdown",
   "metadata": {},
   "source": [
    "### Columns"
   ]
  },
  {
   "cell_type": "code",
   "execution_count": 14,
   "metadata": {},
   "outputs": [
    {
     "output_type": "execute_result",
     "data": {
      "text/plain": "Index(['id', 'date', 'price', 'bedrooms', 'bathrooms', 'sqft_living',\n       'sqft_lot', 'floors', 'waterfront', 'view', 'condition', 'grade',\n       'sqft_above', 'sqft_basement', 'yr_built', 'yr_renovated', 'zipcode',\n       'lat', 'long', 'sqft_living15', 'sqft_lot15'],\n      dtype='object')"
     },
     "metadata": {},
     "execution_count": 14
    }
   ],
   "source": [
    "df.columns"
   ]
  },
  {
   "cell_type": "markdown",
   "metadata": {},
   "source": [
    "No duplicate columns. Clean column names. "
   ]
  },
  {
   "cell_type": "markdown",
   "metadata": {},
   "source": [
    "### Tail of Data Frame"
   ]
  },
  {
   "cell_type": "code",
   "execution_count": 15,
   "metadata": {},
   "outputs": [
    {
     "output_type": "execute_result",
     "data": {
      "text/plain": "               id        date     price  bedrooms  bathrooms  sqft_living  \\\n21592   263000018   5/21/2014  360000.0         3       2.50         1530   \n21593  6600060120   2/23/2015  400000.0         4       2.50         2310   \n21594  1523300141   6/23/2014  402101.0         2       0.75         1020   \n21595   291310100   1/16/2015  400000.0         3       2.50         1600   \n21596  1523300157  10/15/2014  325000.0         2       0.75         1020   \n\n       sqft_lot  floors  waterfront  view  ...  grade  sqft_above  \\\n21592      1131     3.0         0.0   0.0  ...      8        1530   \n21593      5813     2.0         0.0   0.0  ...      8        2310   \n21594      1350     2.0         0.0   0.0  ...      7        1020   \n21595      2388     2.0         NaN   0.0  ...      8        1600   \n21596      1076     2.0         0.0   0.0  ...      7        1020   \n\n       sqft_basement yr_built  yr_renovated  zipcode      lat     long  \\\n21592            0.0     2009           0.0    98103  47.6993 -122.346   \n21593            0.0     2014           0.0    98146  47.5107 -122.362   \n21594            0.0     2009           0.0    98144  47.5944 -122.299   \n21595            0.0     2004           0.0    98027  47.5345 -122.069   \n21596            0.0     2008           0.0    98144  47.5941 -122.299   \n\n       sqft_living15  sqft_lot15  \n21592           1530        1509  \n21593           1830        7200  \n21594           1020        2007  \n21595           1410        1287  \n21596           1020        1357  \n\n[5 rows x 21 columns]",
      "text/html": "<div>\n<style scoped>\n    .dataframe tbody tr th:only-of-type {\n        vertical-align: middle;\n    }\n\n    .dataframe tbody tr th {\n        vertical-align: top;\n    }\n\n    .dataframe thead th {\n        text-align: right;\n    }\n</style>\n<table border=\"1\" class=\"dataframe\">\n  <thead>\n    <tr style=\"text-align: right;\">\n      <th></th>\n      <th>id</th>\n      <th>date</th>\n      <th>price</th>\n      <th>bedrooms</th>\n      <th>bathrooms</th>\n      <th>sqft_living</th>\n      <th>sqft_lot</th>\n      <th>floors</th>\n      <th>waterfront</th>\n      <th>view</th>\n      <th>...</th>\n      <th>grade</th>\n      <th>sqft_above</th>\n      <th>sqft_basement</th>\n      <th>yr_built</th>\n      <th>yr_renovated</th>\n      <th>zipcode</th>\n      <th>lat</th>\n      <th>long</th>\n      <th>sqft_living15</th>\n      <th>sqft_lot15</th>\n    </tr>\n  </thead>\n  <tbody>\n    <tr>\n      <th>21592</th>\n      <td>263000018</td>\n      <td>5/21/2014</td>\n      <td>360000.0</td>\n      <td>3</td>\n      <td>2.50</td>\n      <td>1530</td>\n      <td>1131</td>\n      <td>3.0</td>\n      <td>0.0</td>\n      <td>0.0</td>\n      <td>...</td>\n      <td>8</td>\n      <td>1530</td>\n      <td>0.0</td>\n      <td>2009</td>\n      <td>0.0</td>\n      <td>98103</td>\n      <td>47.6993</td>\n      <td>-122.346</td>\n      <td>1530</td>\n      <td>1509</td>\n    </tr>\n    <tr>\n      <th>21593</th>\n      <td>6600060120</td>\n      <td>2/23/2015</td>\n      <td>400000.0</td>\n      <td>4</td>\n      <td>2.50</td>\n      <td>2310</td>\n      <td>5813</td>\n      <td>2.0</td>\n      <td>0.0</td>\n      <td>0.0</td>\n      <td>...</td>\n      <td>8</td>\n      <td>2310</td>\n      <td>0.0</td>\n      <td>2014</td>\n      <td>0.0</td>\n      <td>98146</td>\n      <td>47.5107</td>\n      <td>-122.362</td>\n      <td>1830</td>\n      <td>7200</td>\n    </tr>\n    <tr>\n      <th>21594</th>\n      <td>1523300141</td>\n      <td>6/23/2014</td>\n      <td>402101.0</td>\n      <td>2</td>\n      <td>0.75</td>\n      <td>1020</td>\n      <td>1350</td>\n      <td>2.0</td>\n      <td>0.0</td>\n      <td>0.0</td>\n      <td>...</td>\n      <td>7</td>\n      <td>1020</td>\n      <td>0.0</td>\n      <td>2009</td>\n      <td>0.0</td>\n      <td>98144</td>\n      <td>47.5944</td>\n      <td>-122.299</td>\n      <td>1020</td>\n      <td>2007</td>\n    </tr>\n    <tr>\n      <th>21595</th>\n      <td>291310100</td>\n      <td>1/16/2015</td>\n      <td>400000.0</td>\n      <td>3</td>\n      <td>2.50</td>\n      <td>1600</td>\n      <td>2388</td>\n      <td>2.0</td>\n      <td>NaN</td>\n      <td>0.0</td>\n      <td>...</td>\n      <td>8</td>\n      <td>1600</td>\n      <td>0.0</td>\n      <td>2004</td>\n      <td>0.0</td>\n      <td>98027</td>\n      <td>47.5345</td>\n      <td>-122.069</td>\n      <td>1410</td>\n      <td>1287</td>\n    </tr>\n    <tr>\n      <th>21596</th>\n      <td>1523300157</td>\n      <td>10/15/2014</td>\n      <td>325000.0</td>\n      <td>2</td>\n      <td>0.75</td>\n      <td>1020</td>\n      <td>1076</td>\n      <td>2.0</td>\n      <td>0.0</td>\n      <td>0.0</td>\n      <td>...</td>\n      <td>7</td>\n      <td>1020</td>\n      <td>0.0</td>\n      <td>2008</td>\n      <td>0.0</td>\n      <td>98144</td>\n      <td>47.5941</td>\n      <td>-122.299</td>\n      <td>1020</td>\n      <td>1357</td>\n    </tr>\n  </tbody>\n</table>\n<p>5 rows × 21 columns</p>\n</div>"
     },
     "metadata": {},
     "execution_count": 15
    }
   ],
   "source": [
    "df.tail()"
   ]
  },
  {
   "cell_type": "markdown",
   "metadata": {},
   "source": [
    "### Fix Datatypes "
   ]
  },
  {
   "cell_type": "markdown",
   "metadata": {},
   "source": [
    "- [X] date           21597 non-null  object \n",
    "- [X] price          21597 non-null  float64\n",
    "- [X] waterfront     19221 non-null  float64. Cannot convert to int64 due to NA values. Keeping as float.\n",
    "- [X] view           21534 non-null  float64. Cannot conver to int64 due to NA values. Keeping as float.\n",
    "- [X] sqft_basement  21597 non-null  object. \n",
    "- [X] yr_renovated   17755 non-null  float64. Cannot convert to int due to NA values. Keeping as float. \n",
    "- [X] We keep bedrooms as integer type as it's not continuous. Bathrooms is a float (it doesn't make sense to have a .75). Will be using OneHotEncoding for Bathrooms."
   ]
  },
  {
   "cell_type": "code",
   "execution_count": 16,
   "metadata": {},
   "outputs": [],
   "source": [
    "# Converting data\n",
    "df.date = pd.to_datetime(df.date, format='%m/%d/%Y')\n",
    "# Converting price\n",
    "df.price = df.price.astype(np.int64)\n",
    "# Removing question marks so we can convert from object \n",
    "indexNames = df[df['sqft_basement'] == '?' ].index\n",
    "df.drop(indexNames, inplace=True)\n",
    "# Converting 'sqft_basement' to integer\n",
    "# df.sqft_basement = df.sqft_basement.astype(np.int64)\n",
    "# https://www.quora.com/How-do-I-fix-ValueError-invalid-literal-for-int-with-base-10-0-25"
   ]
  },
  {
   "cell_type": "code",
   "execution_count": 17,
   "metadata": {},
   "outputs": [],
   "source": [
    "df.to_csv('/Users/rashidbaset/Code/github/predict-house-value/Data/processed_kc_housing.csv', index = False)"
   ]
  },
  {
   "cell_type": "markdown",
   "metadata": {
    "tags": []
   },
   "source": [
    "### Exploring the raw data"
   ]
  },
  {
   "cell_type": "markdown",
   "metadata": {},
   "source": [
    "#### Sorting the data: Value counts for each column "
   ]
  },
  {
   "cell_type": "code",
   "execution_count": 19,
   "metadata": {
    "tags": []
   },
   "outputs": [
    {
     "output_type": "stream",
     "name": "stdout",
     "text": "---- id ---\n795000620     3\n9238500040    2\n8062900070    2\n8161020060    2\n5430300171    2\n             ..\n3021059276    1\n880000205     1\n8165500110    1\n9492500170    1\n1777500160    1\nName: id, Length: 20970, dtype: int64\n---- date ---\n2014-06-23    139\n2014-06-25    130\n2014-07-08    126\n2014-06-26    125\n2015-03-25    122\n             ... \n2014-07-27      1\n2015-03-08      1\n2014-11-02      1\n2015-05-15      1\n2015-05-24      1\nName: date, Length: 372, dtype: int64\n---- price ---\n350000    168\n450000    167\n550000    155\n500000    149\n425000    146\n         ... \n789900      1\n330950      1\n699800      1\n568450      1\n303100      1\nName: price, Length: 3581, dtype: int64\n---- bedrooms ---\n3     9639\n4     6740\n2     2691\n5     1560\n6      262\n1      191\n7       36\n8       13\n9        6\n10       3\n11       1\n33       1\nName: bedrooms, dtype: int64\n---- bathrooms ---\n2.50    5255\n1.00    3757\n1.75    2991\n2.25    2014\n2.00    1886\n1.50    1422\n2.75    1160\n3.00     736\n3.50     719\n3.25     574\n3.75     152\n4.00     135\n4.50      96\n4.25      79\n0.75      71\n4.75      23\n5.00      19\n5.25      13\n1.25       9\n5.50       9\n6.00       6\n5.75       4\n0.50       3\n8.00       2\n6.25       2\n6.75       2\n6.50       2\n7.50       1\n7.75       1\nName: bathrooms, dtype: int64\n---- sqft_living ---\n1300    135\n1400    134\n1440    130\n1010    127\n1660    127\n       ... \n4970      1\n2905      1\n2793      1\n4810      1\n6085      1\nName: sqft_living, Length: 1025, dtype: int64\n---- sqft_lot ---\n5000     348\n6000     286\n4000     244\n7200     218\n7500     119\n        ... \n11212      1\n9165       1\n41300      1\n17377      1\n14321      1\nName: sqft_lot, Length: 9643, dtype: int64\n---- floors ---\n1.0    10456\n2.0     8066\n1.5     1865\n3.0      593\n2.5      156\n3.5        7\nName: floors, dtype: int64\n---- waterfront ---\n0.0    18662\n1.0      142\nName: waterfront, dtype: int64\n---- view ---\n0.0    19018\n2.0      930\n3.0      496\n1.0      327\n4.0      311\nName: view, dtype: int64\n---- condition ---\n3    13726\n4     5557\n5     1666\n2      166\n1       28\nName: condition, dtype: int64\n---- grade ---\n7     8788\n8     5933\n9     2557\n6     1997\n10    1112\n11     391\n5      235\n12      89\n4       27\n13      13\n3        1\nName: grade, dtype: int64\n---- sqft_above ---\n1300    208\n1010    207\n1200    199\n1220    191\n1140    182\n       ... \n8860      1\n2665      1\n440       1\n2473      1\n1975      1\nName: sqft_above, Length: 935, dtype: int64\n---- sqft_basement ---\n0.0       12826\n600.0       217\n500.0       209\n700.0       208\n800.0       201\n          ...  \n274.0         1\n1008.0        1\n2600.0        1\n588.0         1\n2196.0        1\nName: sqft_basement, Length: 303, dtype: int64\n---- yr_built ---\n2014    542\n2006    443\n2005    435\n2004    422\n2003    416\n       ... \n1933     30\n1901     28\n1902     27\n1935     23\n1934     21\nName: yr_built, Length: 116, dtype: int64\n---- yr_renovated ---\n0.0       16666\n2014.0       69\n2003.0       31\n2013.0       31\n2007.0       30\n          ...  \n1953.0        1\n1944.0        1\n1934.0        1\n1971.0        1\n1959.0        1\nName: yr_renovated, Length: 69, dtype: int64\n---- zipcode ---\n98103    588\n98038    574\n98115    568\n98052    562\n98042    542\n        ... \n98102    100\n98010     98\n98024     79\n98148     55\n98039     49\nName: zipcode, Length: 70, dtype: int64\n---- lat ---\n47.5322    17\n47.6624    17\n47.5491    17\n47.6846    16\n47.6711    16\n           ..\n47.3027     1\n47.4782     1\n47.3919     1\n47.1981     1\n47.2715     1\nName: lat, Length: 5018, dtype: int64\n---- long ---\n-122.290    113\n-122.300    109\n-122.362    104\n-122.291     98\n-122.363     98\n           ... \n-121.403      1\n-121.804      1\n-121.726      1\n-121.895      1\n-121.893      1\nName: long, Length: 750, dtype: int64\n---- sqft_living15 ---\n1440    194\n1540    192\n1560    188\n1500    173\n1460    165\n       ... \n4890      1\n2873      1\n952       1\n3193      1\n2049      1\nName: sqft_living15, Length: 773, dtype: int64\n---- sqft_lot15 ---\n5000     416\n4000     349\n6000     283\n7200     209\n4800     140\n        ... \n6890       1\n35576      1\n9594       1\n11004      1\n6147       1\nName: sqft_lot15, Length: 8572, dtype: int64\n"
    }
   ],
   "source": [
    "for c in df.columns:\n",
    "    print (\"---- %s ---\" % c)\n",
    "    print (df[c].value_counts())"
   ]
  },
  {
   "cell_type": "markdown",
   "metadata": {},
   "source": [
    "#### Filtering data by various criteria "
   ]
  },
  {
   "cell_type": "code",
   "execution_count": null,
   "metadata": {},
   "outputs": [],
   "source": []
  },
  {
   "cell_type": "code",
   "execution_count": null,
   "metadata": {},
   "outputs": [],
   "source": []
  }
 ],
 "metadata": {
  "kernelspec": {
   "display_name": "Python 3",
   "language": "python",
   "name": "python3"
  },
  "language_info": {
   "codemirror_mode": {
    "name": "ipython",
    "version": 2
   },
   "file_extension": ".py",
   "mimetype": "text/x-python",
   "name": "python",
   "nbconvert_exporter": "python",
   "pygments_lexer": "ipython2",
   "version": "3.7.6-final"
  }
 },
 "nbformat": 4,
 "nbformat_minor": 2
}