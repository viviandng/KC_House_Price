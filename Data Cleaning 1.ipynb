{
 "cells": [
  {
   "cell_type": "code",
   "execution_count": 1,
   "metadata": {},
   "outputs": [],
   "source": [
    "import pandas as pd\n",
    "\n",
    "import numpy as np\n",
    "\n",
    "import seaborn as sns\n",
    "import matplotlib.pyplot as plt\n",
    "%matplotlib inline\n",
    "\n",
    "import statsmodels.api as sm\n",
    "from statsmodels.formula.api import ols"
   ]
  },
  {
   "cell_type": "code",
   "execution_count": 2,
   "metadata": {},
   "outputs": [],
   "source": [
    "kc_housing = pd.read_csv('kc_house_data.csv')"
   ]
  },
  {
   "cell_type": "code",
   "execution_count": 3,
   "metadata": {},
   "outputs": [
    {
     "data": {
      "text/plain": [
       "Index([u'id', u'date', u'price', u'bedrooms', u'bathrooms', u'sqft_living',\n",
       "       u'sqft_lot', u'floors', u'waterfront', u'view', u'condition', u'grade',\n",
       "       u'sqft_above', u'sqft_basement', u'yr_built', u'yr_renovated',\n",
       "       u'zipcode', u'lat', u'long', u'sqft_living15', u'sqft_lot15'],\n",
       "      dtype='object')"
      ]
     },
     "execution_count": 3,
     "metadata": {},
     "output_type": "execute_result"
    }
   ],
   "source": [
    "kc_housing.columns"
   ]
  },
  {
   "cell_type": "code",
   "execution_count": 8,
   "metadata": {},
   "outputs": [],
   "source": [
    "#g = sns.pairplot(data=df)"
   ]
  },
  {
   "cell_type": "code",
   "execution_count": 5,
   "metadata": {},
   "outputs": [],
   "source": [
    "kc_housing['sqft_basement'] = kc_housing['sqft_living'] - kc_housing['sqft_above']"
   ]
  },
  {
   "cell_type": "code",
   "execution_count": 58,
   "metadata": {},
   "outputs": [],
   "source": [
    "kc_housing['waterfront'].unique()\n",
    "kc_housing['waterfront'].isnull().sum(axis = 0)\n",
    "kc_housing['waterfront'] = kc_housing['waterfront'].fillna(0)\n",
    "\n",
    "kc_housing['yr_renovated'].isnull().sum(axis = 0)\n",
    "kc_housing['yr_renovated'] = kc_housing['yr_renovated'].fillna(0)"
   ]
  },
  {
   "cell_type": "code",
   "execution_count": 59,
   "metadata": {},
   "outputs": [],
   "source": [
    "kc_housing['age_home'] = 2020 - kc_housing['yr_built']\n",
    "#kc_housing = kc_housing.drop(columns = ['yr_built'])"
   ]
  },
  {
   "cell_type": "code",
   "execution_count": 9,
   "metadata": {},
   "outputs": [],
   "source": [
    "kc_housing.drop(columns = ['lat', 'long', 'view', 'sqft_lot'], inplace=True)\n",
    "# lat & long cords have no computaiton power\n",
    "# view should not have 0 if home has been sold and has a sale price. not sure what view is \n",
    "# sqft_lot has a high p-val"
   ]
  },
  {
   "cell_type": "code",
   "execution_count": 54,
   "metadata": {},
   "outputs": [
    {
     "data": {
      "text/plain": [
       "Index([u'id', u'date', u'price', u'bedrooms', u'bathrooms', u'sqft_living',\n",
       "       u'sqft_lot', u'floors', u'waterfront', u'condition', u'grade',\n",
       "       u'sqft_above', u'sqft_basement', u'yr_renovated', u'zipcode',\n",
       "       u'sqft_living15', u'sqft_lot15', u'age_home'],\n",
       "      dtype='object')"
      ]
     },
     "execution_count": 54,
     "metadata": {},
     "output_type": "execute_result"
    }
   ],
   "source": [
    "kc_housing.columns"
   ]
  },
  {
   "cell_type": "code",
   "execution_count": null,
   "metadata": {},
   "outputs": [],
   "source": [
    "kc_housing.corr()"
   ]
  },
  {
   "cell_type": "code",
   "execution_count": 34,
   "metadata": {},
   "outputs": [
    {
     "data": {
      "text/plain": [
       "id                 int64\n",
       "date              object\n",
       "price            float64\n",
       "bedrooms           int64\n",
       "bathrooms        float64\n",
       "sqft_living        int64\n",
       "sqft_lot           int64\n",
       "floors           float64\n",
       "waterfront       float64\n",
       "view             float64\n",
       "condition          int64\n",
       "grade              int64\n",
       "sqft_above         int64\n",
       "sqft_basement     object\n",
       "yr_renovated     float64\n",
       "zipcode            int64\n",
       "sqft_living15      int64\n",
       "sqft_lot15         int64\n",
       "age_home           int64\n",
       "dtype: object"
      ]
     },
     "execution_count": 34,
     "metadata": {},
     "output_type": "execute_result"
    }
   ],
   "source": [
    "kc_housing.dtypes"
   ]
  },
  {
   "cell_type": "code",
   "execution_count": 66,
   "metadata": {},
   "outputs": [
    {
     "data": {
      "text/html": [
       "<table class=\"simpletable\">\n",
       "<caption>OLS Regression Results</caption>\n",
       "<tr>\n",
       "  <th>Dep. Variable:</th>            <td>y</td>        <th>  R-squared:         </th>  <td>   0.645</td>  \n",
       "</tr>\n",
       "<tr>\n",
       "  <th>Model:</th>                   <td>OLS</td>       <th>  Adj. R-squared:    </th>  <td>   0.645</td>  \n",
       "</tr>\n",
       "<tr>\n",
       "  <th>Method:</th>             <td>Least Squares</td>  <th>  F-statistic:       </th>  <td>   3929.</td>  \n",
       "</tr>\n",
       "<tr>\n",
       "  <th>Date:</th>             <td>Fri, 27 Mar 2020</td> <th>  Prob (F-statistic):</th>   <td>  0.00</td>   \n",
       "</tr>\n",
       "<tr>\n",
       "  <th>Time:</th>                 <td>14:26:59</td>     <th>  Log-Likelihood:    </th> <td>-2.9620e+05</td>\n",
       "</tr>\n",
       "<tr>\n",
       "  <th>No. Observations:</th>      <td> 21597</td>      <th>  AIC:               </th>  <td>5.924e+05</td> \n",
       "</tr>\n",
       "<tr>\n",
       "  <th>Df Residuals:</th>          <td> 21586</td>      <th>  BIC:               </th>  <td>5.925e+05</td> \n",
       "</tr>\n",
       "<tr>\n",
       "  <th>Df Model:</th>              <td>    10</td>      <th>                     </th>      <td> </td>     \n",
       "</tr>\n",
       "<tr>\n",
       "  <th>Covariance Type:</th>      <td>nonrobust</td>    <th>                     </th>      <td> </td>     \n",
       "</tr>\n",
       "</table>\n",
       "<table class=\"simpletable\">\n",
       "<tr>\n",
       "    <td></td>       <th>coef</th>     <th>std err</th>      <th>t</th>      <th>P>|t|</th>  <th>[0.025</th>    <th>0.975]</th>  \n",
       "</tr>\n",
       "<tr>\n",
       "  <th>const</th> <td>-1.084e+06</td> <td> 1.75e+04</td> <td>  -61.948</td> <td> 0.000</td> <td>-1.12e+06</td> <td>-1.05e+06</td>\n",
       "</tr>\n",
       "<tr>\n",
       "  <th>x1</th>    <td>-4.128e+04</td> <td> 2045.725</td> <td>  -20.180</td> <td> 0.000</td> <td>-4.53e+04</td> <td>-3.73e+04</td>\n",
       "</tr>\n",
       "<tr>\n",
       "  <th>x2</th>    <td> 4.747e+04</td> <td> 3541.067</td> <td>   13.405</td> <td> 0.000</td> <td> 4.05e+04</td> <td> 5.44e+04</td>\n",
       "</tr>\n",
       "<tr>\n",
       "  <th>x3</th>    <td>  168.6365</td> <td>    3.479</td> <td>   48.468</td> <td> 0.000</td> <td>  161.817</td> <td>  175.456</td>\n",
       "</tr>\n",
       "<tr>\n",
       "  <th>x4</th>    <td> 2.828e+04</td> <td> 3764.216</td> <td>    7.513</td> <td> 0.000</td> <td> 2.09e+04</td> <td> 3.57e+04</td>\n",
       "</tr>\n",
       "<tr>\n",
       "  <th>x5</th>    <td> 7.495e+05</td> <td> 1.84e+04</td> <td>   40.720</td> <td> 0.000</td> <td> 7.13e+05</td> <td> 7.86e+05</td>\n",
       "</tr>\n",
       "<tr>\n",
       "  <th>x6</th>    <td> 1.953e+04</td> <td> 2522.126</td> <td>    7.745</td> <td> 0.000</td> <td> 1.46e+04</td> <td> 2.45e+04</td>\n",
       "</tr>\n",
       "<tr>\n",
       "  <th>x7</th>    <td> 1.316e+05</td> <td> 2176.811</td> <td>   60.435</td> <td> 0.000</td> <td> 1.27e+05</td> <td> 1.36e+05</td>\n",
       "</tr>\n",
       "<tr>\n",
       "  <th>x8</th>    <td> 3756.4034</td> <td>   70.470</td> <td>   53.305</td> <td> 0.000</td> <td> 3618.278</td> <td> 3894.529</td>\n",
       "</tr>\n",
       "<tr>\n",
       "  <th>x9</th>    <td>   18.7071</td> <td>    4.422</td> <td>    4.230</td> <td> 0.000</td> <td>   10.039</td> <td>   27.375</td>\n",
       "</tr>\n",
       "<tr>\n",
       "  <th>x10</th>   <td>   14.1309</td> <td>    4.311</td> <td>    3.278</td> <td> 0.001</td> <td>    5.681</td> <td>   22.581</td>\n",
       "</tr>\n",
       "</table>\n",
       "<table class=\"simpletable\">\n",
       "<tr>\n",
       "  <th>Omnibus:</th>       <td>15992.037</td> <th>  Durbin-Watson:     </th>  <td>   1.976</td>  \n",
       "</tr>\n",
       "<tr>\n",
       "  <th>Prob(Omnibus):</th>  <td> 0.000</td>   <th>  Jarque-Bera (JB):  </th> <td>1048058.149</td>\n",
       "</tr>\n",
       "<tr>\n",
       "  <th>Skew:</th>           <td> 2.969</td>   <th>  Prob(JB):          </th>  <td>    0.00</td>  \n",
       "</tr>\n",
       "<tr>\n",
       "  <th>Kurtosis:</th>       <td>36.607</td>   <th>  Cond. No.          </th>  <td>2.85e+04</td>  \n",
       "</tr>\n",
       "</table><br/><br/>Warnings:<br/>[1] Standard Errors assume that the covariance matrix of the errors is correctly specified.<br/>[2] The condition number is large, 2.85e+04. This might indicate that there are<br/>strong multicollinearity or other numerical problems."
      ],
      "text/plain": [
       "<class 'statsmodels.iolib.summary.Summary'>\n",
       "\"\"\"\n",
       "                            OLS Regression Results                            \n",
       "==============================================================================\n",
       "Dep. Variable:                      y   R-squared:                       0.645\n",
       "Model:                            OLS   Adj. R-squared:                  0.645\n",
       "Method:                 Least Squares   F-statistic:                     3929.\n",
       "Date:                Fri, 27 Mar 2020   Prob (F-statistic):               0.00\n",
       "Time:                        14:26:59   Log-Likelihood:            -2.9620e+05\n",
       "No. Observations:               21597   AIC:                         5.924e+05\n",
       "Df Residuals:                   21586   BIC:                         5.925e+05\n",
       "Df Model:                          10                                         \n",
       "Covariance Type:            nonrobust                                         \n",
       "==============================================================================\n",
       "                 coef    std err          t      P>|t|      [0.025      0.975]\n",
       "------------------------------------------------------------------------------\n",
       "const      -1.084e+06   1.75e+04    -61.948      0.000   -1.12e+06   -1.05e+06\n",
       "x1         -4.128e+04   2045.725    -20.180      0.000   -4.53e+04   -3.73e+04\n",
       "x2          4.747e+04   3541.067     13.405      0.000    4.05e+04    5.44e+04\n",
       "x3           168.6365      3.479     48.468      0.000     161.817     175.456\n",
       "x4          2.828e+04   3764.216      7.513      0.000    2.09e+04    3.57e+04\n",
       "x5          7.495e+05   1.84e+04     40.720      0.000    7.13e+05    7.86e+05\n",
       "x6          1.953e+04   2522.126      7.745      0.000    1.46e+04    2.45e+04\n",
       "x7          1.316e+05   2176.811     60.435      0.000    1.27e+05    1.36e+05\n",
       "x8          3756.4034     70.470     53.305      0.000    3618.278    3894.529\n",
       "x9            18.7071      4.422      4.230      0.000      10.039      27.375\n",
       "x10           14.1309      4.311      3.278      0.001       5.681      22.581\n",
       "==============================================================================\n",
       "Omnibus:                    15992.037   Durbin-Watson:                   1.976\n",
       "Prob(Omnibus):                  0.000   Jarque-Bera (JB):          1048058.149\n",
       "Skew:                           2.969   Prob(JB):                         0.00\n",
       "Kurtosis:                      36.607   Cond. No.                     2.85e+04\n",
       "==============================================================================\n",
       "\n",
       "Warnings:\n",
       "[1] Standard Errors assume that the covariance matrix of the errors is correctly specified.\n",
       "[2] The condition number is large, 2.85e+04. This might indicate that there are\n",
       "strong multicollinearity or other numerical problems.\n",
       "\"\"\""
      ]
     },
     "execution_count": 66,
     "metadata": {},
     "output_type": "execute_result"
    }
   ],
   "source": [
    "X = kc_housing[['bedrooms', 'bathrooms', 'sqft_living','floors', 'waterfront', 'condition', 'grade', 'age_home', 'sqft_basement', 'yr_renovated']].values\n",
    "y = kc_housing['price'].values\n",
    "\n",
    "# Add constants for the intercept term:\n",
    "Xconst = sm.add_constant(X)\n",
    "\n",
    "model = sm.OLS(y, Xconst, hasconst= True)\n",
    "multiple_model_fitted = model.fit()\n",
    "\n",
    "\n",
    "multiple_model_fitted.summary()"
   ]
  },
  {
   "cell_type": "code",
   "execution_count": 8,
   "metadata": {},
   "outputs": [
    {
     "data": {
      "text/plain": [
       "Index([u'id', u'date', u'price', u'bedrooms', u'bathrooms', u'sqft_living',\n",
       "       u'sqft_lot', u'floors', u'waterfront', u'view', u'condition', u'grade',\n",
       "       u'sqft_above', u'sqft_basement', u'yr_built', u'yr_renovated',\n",
       "       u'zipcode', u'lat', u'long', u'sqft_living15', u'sqft_lot15'],\n",
       "      dtype='object')"
      ]
     },
     "execution_count": 8,
     "metadata": {},
     "output_type": "execute_result"
    }
   ],
   "source": [
    "kc_housing.columns"
   ]
  },
  {
   "cell_type": "code",
   "execution_count": null,
   "metadata": {},
   "outputs": [],
   "source": []
  }
 ],
 "metadata": {
  "kernelspec": {
   "display_name": "Python 3",
   "language": "python",
   "name": "python3"
  },
  "language_info": {
   "codemirror_mode": {
    "name": "ipython",
    "version": 2
   },
   "file_extension": ".py",
   "mimetype": "text/x-python",
   "name": "python",
   "nbconvert_exporter": "python",
   "pygments_lexer": "ipython2",
   "version": "2.7.17"
  }
 },
 "nbformat": 4,
 "nbformat_minor": 2
}
